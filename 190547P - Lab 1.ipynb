{
 "cells": [
  {
   "cell_type": "markdown",
   "id": "cbae44f9",
   "metadata": {},
   "source": [
    "# CS 4622 - Machine Learning - Lab 01\n",
    "\n",
    "## Feature Engineering"
   ]
  },
  {
   "cell_type": "markdown",
   "id": "8034f0a0",
   "metadata": {},
   "source": [
    "The task in this lab was to develop a model to predict 4 label outputs, by applying feature engineering techniques.\n",
    "We were provided with 2 datasets : \"train.csv\" and \"valid.csv\" for this lab.\n",
    "\n",
    "Given below is the general outline of how the implementation has been done in this notebook:\n",
    "<ol>\n",
    "<li> Read given data into pandas dataframe </li> \n",
    "<li> Fill missing values </li> \n",
    "<li> For all 4 labels, </li> \n",
    "    <ol>\n",
    "    <li> Train a SVM model for all 256 features </li> \n",
    "    <li> Get accuracy for the trained model </li> \n",
    "    <li> Perform feature selection and train a new model for the reduced number of features </li> \n",
    "    <li> Get accuracy scores for the new model and evaluate the performance </li> \n",
    "    </ol>\n",
    "</ol>\n",
    "    \n",
    "For 'label_4' an additional step of preprocessing was done to oversample the data and ensure an equal distribution."
   ]
  },
  {
   "cell_type": "code",
   "execution_count": 1,
   "id": "95933a06",
   "metadata": {},
   "outputs": [],
   "source": [
    "# Import necessary libraries\n",
    "\n",
    "import pandas as pd\n",
    "import numpy as np\n",
    "import matplotlib.pyplot as plt\n",
    "import seaborn as sns\n",
    "from sklearn import metrics\n",
    "from sklearn.feature_selection import SelectFromModel\n",
    "from sklearn.ensemble import RandomForestClassifier\n",
    "from sklearn.svm import SVC\n",
    "from sklearn.feature_selection import SelectKBest, f_classif\n",
    "from sklearn.neighbors import KNeighborsClassifier\n",
    "from imblearn.over_sampling import RandomOverSampler"
   ]
  },
  {
   "cell_type": "code",
   "execution_count": 2,
   "id": "31ba91d6",
   "metadata": {},
   "outputs": [],
   "source": [
    "# Read csv data\n",
    "train = pd.read_csv(\"train.csv\")\n",
    "valid = pd.read_csv(\"valid.csv\")"
   ]
  },
  {
   "cell_type": "code",
   "execution_count": 3,
   "id": "446b3843",
   "metadata": {},
   "outputs": [
    {
     "name": "stdout",
     "output_type": "stream",
     "text": [
      "(28520, 260)\n",
      "(750, 260)\n"
     ]
    }
   ],
   "source": [
    "# Display information about the train and valid datasets\n",
    "train_original = train.copy()\n",
    "valid_original = valid.copy()\n",
    "\n",
    "print(train.shape)\n",
    "print(valid.shape)"
   ]
  },
  {
   "cell_type": "code",
   "execution_count": 4,
   "id": "a0398042",
   "metadata": {},
   "outputs": [
    {
     "data": {
      "text/html": [
       "<div>\n",
       "<style scoped>\n",
       "    .dataframe tbody tr th:only-of-type {\n",
       "        vertical-align: middle;\n",
       "    }\n",
       "\n",
       "    .dataframe tbody tr th {\n",
       "        vertical-align: top;\n",
       "    }\n",
       "\n",
       "    .dataframe thead th {\n",
       "        text-align: right;\n",
       "    }\n",
       "</style>\n",
       "<table border=\"1\" class=\"dataframe\">\n",
       "  <thead>\n",
       "    <tr style=\"text-align: right;\">\n",
       "      <th></th>\n",
       "      <th>feature_1</th>\n",
       "      <th>feature_2</th>\n",
       "      <th>feature_3</th>\n",
       "      <th>feature_4</th>\n",
       "      <th>feature_5</th>\n",
       "      <th>feature_6</th>\n",
       "      <th>feature_7</th>\n",
       "      <th>feature_8</th>\n",
       "      <th>feature_9</th>\n",
       "      <th>feature_10</th>\n",
       "      <th>...</th>\n",
       "      <th>feature_251</th>\n",
       "      <th>feature_252</th>\n",
       "      <th>feature_253</th>\n",
       "      <th>feature_254</th>\n",
       "      <th>feature_255</th>\n",
       "      <th>feature_256</th>\n",
       "      <th>label_1</th>\n",
       "      <th>label_2</th>\n",
       "      <th>label_3</th>\n",
       "      <th>label_4</th>\n",
       "    </tr>\n",
       "  </thead>\n",
       "  <tbody>\n",
       "    <tr>\n",
       "      <th>0</th>\n",
       "      <td>-1.928826</td>\n",
       "      <td>-0.291540</td>\n",
       "      <td>1.105909</td>\n",
       "      <td>2.070652</td>\n",
       "      <td>0.657838</td>\n",
       "      <td>-0.670940</td>\n",
       "      <td>-0.968238</td>\n",
       "      <td>0.049916</td>\n",
       "      <td>1.111149</td>\n",
       "      <td>-1.834592</td>\n",
       "      <td>...</td>\n",
       "      <td>-0.691538</td>\n",
       "      <td>-1.152522</td>\n",
       "      <td>0.441157</td>\n",
       "      <td>-1.494434</td>\n",
       "      <td>-0.344974</td>\n",
       "      <td>-0.395641</td>\n",
       "      <td>45</td>\n",
       "      <td>NaN</td>\n",
       "      <td>1</td>\n",
       "      <td>6</td>\n",
       "    </tr>\n",
       "    <tr>\n",
       "      <th>1</th>\n",
       "      <td>-1.709277</td>\n",
       "      <td>-1.008998</td>\n",
       "      <td>0.956611</td>\n",
       "      <td>4.313823</td>\n",
       "      <td>-0.669455</td>\n",
       "      <td>1.928765</td>\n",
       "      <td>0.162550</td>\n",
       "      <td>0.152173</td>\n",
       "      <td>2.356505</td>\n",
       "      <td>-2.898549</td>\n",
       "      <td>...</td>\n",
       "      <td>-0.668235</td>\n",
       "      <td>-0.532695</td>\n",
       "      <td>0.151163</td>\n",
       "      <td>-1.876885</td>\n",
       "      <td>1.651534</td>\n",
       "      <td>-2.706490</td>\n",
       "      <td>45</td>\n",
       "      <td>NaN</td>\n",
       "      <td>1</td>\n",
       "      <td>6</td>\n",
       "    </tr>\n",
       "    <tr>\n",
       "      <th>2</th>\n",
       "      <td>-1.906183</td>\n",
       "      <td>-0.357562</td>\n",
       "      <td>-0.682627</td>\n",
       "      <td>4.651838</td>\n",
       "      <td>-0.884940</td>\n",
       "      <td>1.159512</td>\n",
       "      <td>1.354481</td>\n",
       "      <td>-1.432248</td>\n",
       "      <td>2.160144</td>\n",
       "      <td>-3.175735</td>\n",
       "      <td>...</td>\n",
       "      <td>-0.026728</td>\n",
       "      <td>0.440408</td>\n",
       "      <td>2.745906</td>\n",
       "      <td>-0.680754</td>\n",
       "      <td>-0.643588</td>\n",
       "      <td>-2.587203</td>\n",
       "      <td>45</td>\n",
       "      <td>NaN</td>\n",
       "      <td>1</td>\n",
       "      <td>6</td>\n",
       "    </tr>\n",
       "    <tr>\n",
       "      <th>3</th>\n",
       "      <td>0.697872</td>\n",
       "      <td>-2.218567</td>\n",
       "      <td>-0.572214</td>\n",
       "      <td>1.192062</td>\n",
       "      <td>0.329554</td>\n",
       "      <td>0.741364</td>\n",
       "      <td>0.962354</td>\n",
       "      <td>0.993512</td>\n",
       "      <td>2.896854</td>\n",
       "      <td>-1.600380</td>\n",
       "      <td>...</td>\n",
       "      <td>0.709032</td>\n",
       "      <td>0.812106</td>\n",
       "      <td>1.055266</td>\n",
       "      <td>-0.915258</td>\n",
       "      <td>-0.924856</td>\n",
       "      <td>-1.318964</td>\n",
       "      <td>45</td>\n",
       "      <td>NaN</td>\n",
       "      <td>1</td>\n",
       "      <td>6</td>\n",
       "    </tr>\n",
       "    <tr>\n",
       "      <th>4</th>\n",
       "      <td>-1.976895</td>\n",
       "      <td>-0.496308</td>\n",
       "      <td>0.368102</td>\n",
       "      <td>3.739787</td>\n",
       "      <td>-0.132058</td>\n",
       "      <td>1.234980</td>\n",
       "      <td>-0.501003</td>\n",
       "      <td>0.881554</td>\n",
       "      <td>1.630941</td>\n",
       "      <td>-3.853953</td>\n",
       "      <td>...</td>\n",
       "      <td>-0.599700</td>\n",
       "      <td>-1.024829</td>\n",
       "      <td>1.869753</td>\n",
       "      <td>-2.498570</td>\n",
       "      <td>3.268253</td>\n",
       "      <td>-1.356606</td>\n",
       "      <td>45</td>\n",
       "      <td>NaN</td>\n",
       "      <td>1</td>\n",
       "      <td>6</td>\n",
       "    </tr>\n",
       "  </tbody>\n",
       "</table>\n",
       "<p>5 rows × 260 columns</p>\n",
       "</div>"
      ],
      "text/plain": [
       "   feature_1  feature_2  feature_3  feature_4  feature_5  feature_6  \\\n",
       "0  -1.928826  -0.291540   1.105909   2.070652   0.657838  -0.670940   \n",
       "1  -1.709277  -1.008998   0.956611   4.313823  -0.669455   1.928765   \n",
       "2  -1.906183  -0.357562  -0.682627   4.651838  -0.884940   1.159512   \n",
       "3   0.697872  -2.218567  -0.572214   1.192062   0.329554   0.741364   \n",
       "4  -1.976895  -0.496308   0.368102   3.739787  -0.132058   1.234980   \n",
       "\n",
       "   feature_7  feature_8  feature_9  feature_10  ...  feature_251  feature_252  \\\n",
       "0  -0.968238   0.049916   1.111149   -1.834592  ...    -0.691538    -1.152522   \n",
       "1   0.162550   0.152173   2.356505   -2.898549  ...    -0.668235    -0.532695   \n",
       "2   1.354481  -1.432248   2.160144   -3.175735  ...    -0.026728     0.440408   \n",
       "3   0.962354   0.993512   2.896854   -1.600380  ...     0.709032     0.812106   \n",
       "4  -0.501003   0.881554   1.630941   -3.853953  ...    -0.599700    -1.024829   \n",
       "\n",
       "   feature_253  feature_254  feature_255  feature_256  label_1  label_2  \\\n",
       "0     0.441157    -1.494434    -0.344974    -0.395641       45      NaN   \n",
       "1     0.151163    -1.876885     1.651534    -2.706490       45      NaN   \n",
       "2     2.745906    -0.680754    -0.643588    -2.587203       45      NaN   \n",
       "3     1.055266    -0.915258    -0.924856    -1.318964       45      NaN   \n",
       "4     1.869753    -2.498570     3.268253    -1.356606       45      NaN   \n",
       "\n",
       "   label_3  label_4  \n",
       "0        1        6  \n",
       "1        1        6  \n",
       "2        1        6  \n",
       "3        1        6  \n",
       "4        1        6  \n",
       "\n",
       "[5 rows x 260 columns]"
      ]
     },
     "execution_count": 4,
     "metadata": {},
     "output_type": "execute_result"
    }
   ],
   "source": [
    "# Display the first few rows of 'train' dataframe\n",
    "train.head()"
   ]
  },
  {
   "cell_type": "code",
   "execution_count": 5,
   "id": "8e1c85bc",
   "metadata": {},
   "outputs": [
    {
     "data": {
      "text/html": [
       "<div>\n",
       "<style scoped>\n",
       "    .dataframe tbody tr th:only-of-type {\n",
       "        vertical-align: middle;\n",
       "    }\n",
       "\n",
       "    .dataframe tbody tr th {\n",
       "        vertical-align: top;\n",
       "    }\n",
       "\n",
       "    .dataframe thead th {\n",
       "        text-align: right;\n",
       "    }\n",
       "</style>\n",
       "<table border=\"1\" class=\"dataframe\">\n",
       "  <thead>\n",
       "    <tr style=\"text-align: right;\">\n",
       "      <th></th>\n",
       "      <th>feature_1</th>\n",
       "      <th>feature_2</th>\n",
       "      <th>feature_3</th>\n",
       "      <th>feature_4</th>\n",
       "      <th>feature_5</th>\n",
       "      <th>feature_6</th>\n",
       "      <th>feature_7</th>\n",
       "      <th>feature_8</th>\n",
       "      <th>feature_9</th>\n",
       "      <th>feature_10</th>\n",
       "      <th>...</th>\n",
       "      <th>feature_251</th>\n",
       "      <th>feature_252</th>\n",
       "      <th>feature_253</th>\n",
       "      <th>feature_254</th>\n",
       "      <th>feature_255</th>\n",
       "      <th>feature_256</th>\n",
       "      <th>label_1</th>\n",
       "      <th>label_2</th>\n",
       "      <th>label_3</th>\n",
       "      <th>label_4</th>\n",
       "    </tr>\n",
       "  </thead>\n",
       "  <tbody>\n",
       "    <tr>\n",
       "      <th>0</th>\n",
       "      <td>-1.153148</td>\n",
       "      <td>-1.038098</td>\n",
       "      <td>1.419872</td>\n",
       "      <td>2.734152</td>\n",
       "      <td>1.154604</td>\n",
       "      <td>-1.086937</td>\n",
       "      <td>-0.516225</td>\n",
       "      <td>-1.370325</td>\n",
       "      <td>2.865359</td>\n",
       "      <td>-1.879877</td>\n",
       "      <td>...</td>\n",
       "      <td>-0.719046</td>\n",
       "      <td>-1.248530</td>\n",
       "      <td>0.144460</td>\n",
       "      <td>-3.240056</td>\n",
       "      <td>0.052614</td>\n",
       "      <td>0.083108</td>\n",
       "      <td>45</td>\n",
       "      <td>NaN</td>\n",
       "      <td>1</td>\n",
       "      <td>6</td>\n",
       "    </tr>\n",
       "    <tr>\n",
       "      <th>1</th>\n",
       "      <td>-1.377524</td>\n",
       "      <td>-1.018393</td>\n",
       "      <td>1.102352</td>\n",
       "      <td>2.849025</td>\n",
       "      <td>0.440302</td>\n",
       "      <td>-1.149039</td>\n",
       "      <td>-0.789796</td>\n",
       "      <td>-2.258196</td>\n",
       "      <td>1.264268</td>\n",
       "      <td>-2.123730</td>\n",
       "      <td>...</td>\n",
       "      <td>-1.383339</td>\n",
       "      <td>-0.787736</td>\n",
       "      <td>1.044895</td>\n",
       "      <td>-2.289637</td>\n",
       "      <td>0.199752</td>\n",
       "      <td>-0.712154</td>\n",
       "      <td>45</td>\n",
       "      <td>NaN</td>\n",
       "      <td>1</td>\n",
       "      <td>6</td>\n",
       "    </tr>\n",
       "    <tr>\n",
       "      <th>2</th>\n",
       "      <td>0.889574</td>\n",
       "      <td>-2.743300</td>\n",
       "      <td>-0.320194</td>\n",
       "      <td>3.047766</td>\n",
       "      <td>-0.923335</td>\n",
       "      <td>1.741686</td>\n",
       "      <td>-0.615148</td>\n",
       "      <td>0.756482</td>\n",
       "      <td>2.074775</td>\n",
       "      <td>-1.433126</td>\n",
       "      <td>...</td>\n",
       "      <td>1.178322</td>\n",
       "      <td>0.035333</td>\n",
       "      <td>0.857712</td>\n",
       "      <td>-1.928684</td>\n",
       "      <td>0.639870</td>\n",
       "      <td>-0.268576</td>\n",
       "      <td>45</td>\n",
       "      <td>NaN</td>\n",
       "      <td>1</td>\n",
       "      <td>6</td>\n",
       "    </tr>\n",
       "    <tr>\n",
       "      <th>3</th>\n",
       "      <td>-1.527213</td>\n",
       "      <td>-1.133121</td>\n",
       "      <td>0.385927</td>\n",
       "      <td>3.129767</td>\n",
       "      <td>0.229020</td>\n",
       "      <td>1.373105</td>\n",
       "      <td>0.919284</td>\n",
       "      <td>-0.755558</td>\n",
       "      <td>1.086973</td>\n",
       "      <td>-2.440614</td>\n",
       "      <td>...</td>\n",
       "      <td>-0.664176</td>\n",
       "      <td>0.805059</td>\n",
       "      <td>0.975368</td>\n",
       "      <td>-2.700269</td>\n",
       "      <td>1.523236</td>\n",
       "      <td>-1.259052</td>\n",
       "      <td>45</td>\n",
       "      <td>NaN</td>\n",
       "      <td>1</td>\n",
       "      <td>6</td>\n",
       "    </tr>\n",
       "    <tr>\n",
       "      <th>4</th>\n",
       "      <td>0.948176</td>\n",
       "      <td>-0.750248</td>\n",
       "      <td>0.008329</td>\n",
       "      <td>1.675338</td>\n",
       "      <td>1.941155</td>\n",
       "      <td>-0.783623</td>\n",
       "      <td>-0.485584</td>\n",
       "      <td>-0.261882</td>\n",
       "      <td>2.875204</td>\n",
       "      <td>-1.473030</td>\n",
       "      <td>...</td>\n",
       "      <td>-0.665200</td>\n",
       "      <td>-0.428060</td>\n",
       "      <td>-0.393100</td>\n",
       "      <td>-1.854657</td>\n",
       "      <td>2.207063</td>\n",
       "      <td>-0.342725</td>\n",
       "      <td>45</td>\n",
       "      <td>NaN</td>\n",
       "      <td>1</td>\n",
       "      <td>6</td>\n",
       "    </tr>\n",
       "  </tbody>\n",
       "</table>\n",
       "<p>5 rows × 260 columns</p>\n",
       "</div>"
      ],
      "text/plain": [
       "   feature_1  feature_2  feature_3  feature_4  feature_5  feature_6  \\\n",
       "0  -1.153148  -1.038098   1.419872   2.734152   1.154604  -1.086937   \n",
       "1  -1.377524  -1.018393   1.102352   2.849025   0.440302  -1.149039   \n",
       "2   0.889574  -2.743300  -0.320194   3.047766  -0.923335   1.741686   \n",
       "3  -1.527213  -1.133121   0.385927   3.129767   0.229020   1.373105   \n",
       "4   0.948176  -0.750248   0.008329   1.675338   1.941155  -0.783623   \n",
       "\n",
       "   feature_7  feature_8  feature_9  feature_10  ...  feature_251  feature_252  \\\n",
       "0  -0.516225  -1.370325   2.865359   -1.879877  ...    -0.719046    -1.248530   \n",
       "1  -0.789796  -2.258196   1.264268   -2.123730  ...    -1.383339    -0.787736   \n",
       "2  -0.615148   0.756482   2.074775   -1.433126  ...     1.178322     0.035333   \n",
       "3   0.919284  -0.755558   1.086973   -2.440614  ...    -0.664176     0.805059   \n",
       "4  -0.485584  -0.261882   2.875204   -1.473030  ...    -0.665200    -0.428060   \n",
       "\n",
       "   feature_253  feature_254  feature_255  feature_256  label_1  label_2  \\\n",
       "0     0.144460    -3.240056     0.052614     0.083108       45      NaN   \n",
       "1     1.044895    -2.289637     0.199752    -0.712154       45      NaN   \n",
       "2     0.857712    -1.928684     0.639870    -0.268576       45      NaN   \n",
       "3     0.975368    -2.700269     1.523236    -1.259052       45      NaN   \n",
       "4    -0.393100    -1.854657     2.207063    -0.342725       45      NaN   \n",
       "\n",
       "   label_3  label_4  \n",
       "0        1        6  \n",
       "1        1        6  \n",
       "2        1        6  \n",
       "3        1        6  \n",
       "4        1        6  \n",
       "\n",
       "[5 rows x 260 columns]"
      ]
     },
     "execution_count": 5,
     "metadata": {},
     "output_type": "execute_result"
    }
   ],
   "source": [
    "# Display the first few rows of 'valid' dataframe\n",
    "valid.head()"
   ]
  },
  {
   "cell_type": "code",
   "execution_count": 6,
   "id": "24a9d84d",
   "metadata": {},
   "outputs": [
    {
     "name": "stdout",
     "output_type": "stream",
     "text": [
      "Missing values in label_1: 0\n",
      "Missing values in label_2: 480\n",
      "Missing values in label_3: 0\n",
      "Missing values in label_4: 0\n"
     ]
    }
   ],
   "source": [
    "# Find out the number of rows with missing values for each label\n",
    "def check_missing_values(label):\n",
    "    print(\"Missing values in {label}: {val}\".format(label=label, val=train[label].isna().sum()))\n",
    "\n",
    "for label in ['label_1', 'label_2', 'label_3', 'label_4']:\n",
    "    check_missing_values(label)"
   ]
  },
  {
   "cell_type": "code",
   "execution_count": 7,
   "id": "c02a9227",
   "metadata": {},
   "outputs": [
    {
     "data": {
      "text/html": [
       "<div>\n",
       "<style scoped>\n",
       "    .dataframe tbody tr th:only-of-type {\n",
       "        vertical-align: middle;\n",
       "    }\n",
       "\n",
       "    .dataframe tbody tr th {\n",
       "        vertical-align: top;\n",
       "    }\n",
       "\n",
       "    .dataframe thead th {\n",
       "        text-align: right;\n",
       "    }\n",
       "</style>\n",
       "<table border=\"1\" class=\"dataframe\">\n",
       "  <thead>\n",
       "    <tr style=\"text-align: right;\">\n",
       "      <th></th>\n",
       "      <th>feature_1</th>\n",
       "      <th>feature_2</th>\n",
       "      <th>feature_3</th>\n",
       "      <th>feature_4</th>\n",
       "      <th>feature_5</th>\n",
       "      <th>feature_6</th>\n",
       "      <th>feature_7</th>\n",
       "      <th>feature_8</th>\n",
       "      <th>feature_9</th>\n",
       "      <th>feature_10</th>\n",
       "      <th>...</th>\n",
       "      <th>feature_251</th>\n",
       "      <th>feature_252</th>\n",
       "      <th>feature_253</th>\n",
       "      <th>feature_254</th>\n",
       "      <th>feature_255</th>\n",
       "      <th>feature_256</th>\n",
       "      <th>label_1</th>\n",
       "      <th>label_2</th>\n",
       "      <th>label_3</th>\n",
       "      <th>label_4</th>\n",
       "    </tr>\n",
       "  </thead>\n",
       "  <tbody>\n",
       "    <tr>\n",
       "      <th>0</th>\n",
       "      <td>-1.928826</td>\n",
       "      <td>-0.291540</td>\n",
       "      <td>1.105909</td>\n",
       "      <td>2.070652</td>\n",
       "      <td>0.657838</td>\n",
       "      <td>-0.670940</td>\n",
       "      <td>-0.968238</td>\n",
       "      <td>0.049916</td>\n",
       "      <td>1.111149</td>\n",
       "      <td>-1.834592</td>\n",
       "      <td>...</td>\n",
       "      <td>-0.691538</td>\n",
       "      <td>-1.152522</td>\n",
       "      <td>0.441157</td>\n",
       "      <td>-1.494434</td>\n",
       "      <td>-0.344974</td>\n",
       "      <td>-0.395641</td>\n",
       "      <td>45</td>\n",
       "      <td>28</td>\n",
       "      <td>1</td>\n",
       "      <td>6</td>\n",
       "    </tr>\n",
       "    <tr>\n",
       "      <th>1</th>\n",
       "      <td>-1.709277</td>\n",
       "      <td>-1.008998</td>\n",
       "      <td>0.956611</td>\n",
       "      <td>4.313823</td>\n",
       "      <td>-0.669455</td>\n",
       "      <td>1.928765</td>\n",
       "      <td>0.162550</td>\n",
       "      <td>0.152173</td>\n",
       "      <td>2.356505</td>\n",
       "      <td>-2.898549</td>\n",
       "      <td>...</td>\n",
       "      <td>-0.668235</td>\n",
       "      <td>-0.532695</td>\n",
       "      <td>0.151163</td>\n",
       "      <td>-1.876885</td>\n",
       "      <td>1.651534</td>\n",
       "      <td>-2.706490</td>\n",
       "      <td>45</td>\n",
       "      <td>28</td>\n",
       "      <td>1</td>\n",
       "      <td>6</td>\n",
       "    </tr>\n",
       "    <tr>\n",
       "      <th>2</th>\n",
       "      <td>-1.906183</td>\n",
       "      <td>-0.357562</td>\n",
       "      <td>-0.682627</td>\n",
       "      <td>4.651838</td>\n",
       "      <td>-0.884940</td>\n",
       "      <td>1.159512</td>\n",
       "      <td>1.354481</td>\n",
       "      <td>-1.432248</td>\n",
       "      <td>2.160144</td>\n",
       "      <td>-3.175735</td>\n",
       "      <td>...</td>\n",
       "      <td>-0.026728</td>\n",
       "      <td>0.440408</td>\n",
       "      <td>2.745906</td>\n",
       "      <td>-0.680754</td>\n",
       "      <td>-0.643588</td>\n",
       "      <td>-2.587203</td>\n",
       "      <td>45</td>\n",
       "      <td>28</td>\n",
       "      <td>1</td>\n",
       "      <td>6</td>\n",
       "    </tr>\n",
       "    <tr>\n",
       "      <th>3</th>\n",
       "      <td>0.697872</td>\n",
       "      <td>-2.218567</td>\n",
       "      <td>-0.572214</td>\n",
       "      <td>1.192062</td>\n",
       "      <td>0.329554</td>\n",
       "      <td>0.741364</td>\n",
       "      <td>0.962354</td>\n",
       "      <td>0.993512</td>\n",
       "      <td>2.896854</td>\n",
       "      <td>-1.600380</td>\n",
       "      <td>...</td>\n",
       "      <td>0.709032</td>\n",
       "      <td>0.812106</td>\n",
       "      <td>1.055266</td>\n",
       "      <td>-0.915258</td>\n",
       "      <td>-0.924856</td>\n",
       "      <td>-1.318964</td>\n",
       "      <td>45</td>\n",
       "      <td>28</td>\n",
       "      <td>1</td>\n",
       "      <td>6</td>\n",
       "    </tr>\n",
       "    <tr>\n",
       "      <th>4</th>\n",
       "      <td>-1.976895</td>\n",
       "      <td>-0.496308</td>\n",
       "      <td>0.368102</td>\n",
       "      <td>3.739787</td>\n",
       "      <td>-0.132058</td>\n",
       "      <td>1.234980</td>\n",
       "      <td>-0.501003</td>\n",
       "      <td>0.881554</td>\n",
       "      <td>1.630941</td>\n",
       "      <td>-3.853953</td>\n",
       "      <td>...</td>\n",
       "      <td>-0.599700</td>\n",
       "      <td>-1.024829</td>\n",
       "      <td>1.869753</td>\n",
       "      <td>-2.498570</td>\n",
       "      <td>3.268253</td>\n",
       "      <td>-1.356606</td>\n",
       "      <td>45</td>\n",
       "      <td>28</td>\n",
       "      <td>1</td>\n",
       "      <td>6</td>\n",
       "    </tr>\n",
       "  </tbody>\n",
       "</table>\n",
       "<p>5 rows × 260 columns</p>\n",
       "</div>"
      ],
      "text/plain": [
       "   feature_1  feature_2  feature_3  feature_4  feature_5  feature_6  \\\n",
       "0  -1.928826  -0.291540   1.105909   2.070652   0.657838  -0.670940   \n",
       "1  -1.709277  -1.008998   0.956611   4.313823  -0.669455   1.928765   \n",
       "2  -1.906183  -0.357562  -0.682627   4.651838  -0.884940   1.159512   \n",
       "3   0.697872  -2.218567  -0.572214   1.192062   0.329554   0.741364   \n",
       "4  -1.976895  -0.496308   0.368102   3.739787  -0.132058   1.234980   \n",
       "\n",
       "   feature_7  feature_8  feature_9  feature_10  ...  feature_251  feature_252  \\\n",
       "0  -0.968238   0.049916   1.111149   -1.834592  ...    -0.691538    -1.152522   \n",
       "1   0.162550   0.152173   2.356505   -2.898549  ...    -0.668235    -0.532695   \n",
       "2   1.354481  -1.432248   2.160144   -3.175735  ...    -0.026728     0.440408   \n",
       "3   0.962354   0.993512   2.896854   -1.600380  ...     0.709032     0.812106   \n",
       "4  -0.501003   0.881554   1.630941   -3.853953  ...    -0.599700    -1.024829   \n",
       "\n",
       "   feature_253  feature_254  feature_255  feature_256  label_1  label_2  \\\n",
       "0     0.441157    -1.494434    -0.344974    -0.395641       45       28   \n",
       "1     0.151163    -1.876885     1.651534    -2.706490       45       28   \n",
       "2     2.745906    -0.680754    -0.643588    -2.587203       45       28   \n",
       "3     1.055266    -0.915258    -0.924856    -1.318964       45       28   \n",
       "4     1.869753    -2.498570     3.268253    -1.356606       45       28   \n",
       "\n",
       "   label_3  label_4  \n",
       "0        1        6  \n",
       "1        1        6  \n",
       "2        1        6  \n",
       "3        1        6  \n",
       "4        1        6  \n",
       "\n",
       "[5 rows x 260 columns]"
      ]
     },
     "execution_count": 7,
     "metadata": {},
     "output_type": "execute_result"
    }
   ],
   "source": [
    "# Handling missing values in Label 2\n",
    "train['label_2'].fillna(train['label_2'].mean().round(), inplace=True)\n",
    "valid['label_2'].fillna(valid['label_2'].mean().round(), inplace=True)\n",
    "\n",
    "train = train.astype({'label_2':'int'})\n",
    "valid = valid.astype({'label_2':'int'})\n",
    "\n",
    "# Confirm that the values have been filled\n",
    "train.head()"
   ]
  },
  {
   "cell_type": "code",
   "execution_count": 8,
   "id": "d8ce66b9",
   "metadata": {},
   "outputs": [
    {
     "name": "stdout",
     "output_type": "stream",
     "text": [
      "Missing values in label_1: 0\n",
      "Missing values in label_2: 0\n",
      "Missing values in label_3: 0\n",
      "Missing values in label_4: 0\n"
     ]
    }
   ],
   "source": [
    "# Confirm whether the missing values are all completed now\n",
    "\n",
    "for label in ['label_1', 'label_2', 'label_3', 'label_4']:\n",
    "    check_missing_values(label)"
   ]
  },
  {
   "cell_type": "code",
   "execution_count": 9,
   "id": "e2d24f24",
   "metadata": {},
   "outputs": [
    {
     "name": "stdout",
     "output_type": "stream",
     "text": [
      "(28520, 256) (750, 256)\n",
      "(28520, 4) (750, 4)\n"
     ]
    }
   ],
   "source": [
    "# Separate features and target labels\n",
    "X_train = train.iloc[:, :256]\n",
    "y_train = train[['label_1', 'label_2', 'label_3', 'label_4']]\n",
    "\n",
    "X_valid = valid.iloc[:, :256]\n",
    "y_valid = valid[['label_1', 'label_2', 'label_3', 'label_4']]\n",
    "\n",
    "# Check the dimensions to confirm\n",
    "print(X_train.shape, X_valid.shape)\n",
    "print(y_train.shape, y_valid.shape)"
   ]
  },
  {
   "cell_type": "markdown",
   "id": "dbbac1d0",
   "metadata": {},
   "source": [
    "## 1. Modelling Speaker ID\n",
    "\n",
    "Speaker ID is labeled as 'label_1' in the datasets. There were no missing values for this label. This can be considered a categorical variable. \n",
    "\n",
    "First, a model will be developed for all 256 features. I have used a SVM classifier for this model."
   ]
  },
  {
   "cell_type": "code",
   "execution_count": 10,
   "id": "dcc81d32",
   "metadata": {},
   "outputs": [
    {
     "data": {
      "text/html": [
       "<style>#sk-container-id-1 {color: black;background-color: white;}#sk-container-id-1 pre{padding: 0;}#sk-container-id-1 div.sk-toggleable {background-color: white;}#sk-container-id-1 label.sk-toggleable__label {cursor: pointer;display: block;width: 100%;margin-bottom: 0;padding: 0.3em;box-sizing: border-box;text-align: center;}#sk-container-id-1 label.sk-toggleable__label-arrow:before {content: \"▸\";float: left;margin-right: 0.25em;color: #696969;}#sk-container-id-1 label.sk-toggleable__label-arrow:hover:before {color: black;}#sk-container-id-1 div.sk-estimator:hover label.sk-toggleable__label-arrow:before {color: black;}#sk-container-id-1 div.sk-toggleable__content {max-height: 0;max-width: 0;overflow: hidden;text-align: left;background-color: #f0f8ff;}#sk-container-id-1 div.sk-toggleable__content pre {margin: 0.2em;color: black;border-radius: 0.25em;background-color: #f0f8ff;}#sk-container-id-1 input.sk-toggleable__control:checked~div.sk-toggleable__content {max-height: 200px;max-width: 100%;overflow: auto;}#sk-container-id-1 input.sk-toggleable__control:checked~label.sk-toggleable__label-arrow:before {content: \"▾\";}#sk-container-id-1 div.sk-estimator input.sk-toggleable__control:checked~label.sk-toggleable__label {background-color: #d4ebff;}#sk-container-id-1 div.sk-label input.sk-toggleable__control:checked~label.sk-toggleable__label {background-color: #d4ebff;}#sk-container-id-1 input.sk-hidden--visually {border: 0;clip: rect(1px 1px 1px 1px);clip: rect(1px, 1px, 1px, 1px);height: 1px;margin: -1px;overflow: hidden;padding: 0;position: absolute;width: 1px;}#sk-container-id-1 div.sk-estimator {font-family: monospace;background-color: #f0f8ff;border: 1px dotted black;border-radius: 0.25em;box-sizing: border-box;margin-bottom: 0.5em;}#sk-container-id-1 div.sk-estimator:hover {background-color: #d4ebff;}#sk-container-id-1 div.sk-parallel-item::after {content: \"\";width: 100%;border-bottom: 1px solid gray;flex-grow: 1;}#sk-container-id-1 div.sk-label:hover label.sk-toggleable__label {background-color: #d4ebff;}#sk-container-id-1 div.sk-serial::before {content: \"\";position: absolute;border-left: 1px solid gray;box-sizing: border-box;top: 0;bottom: 0;left: 50%;z-index: 0;}#sk-container-id-1 div.sk-serial {display: flex;flex-direction: column;align-items: center;background-color: white;padding-right: 0.2em;padding-left: 0.2em;position: relative;}#sk-container-id-1 div.sk-item {position: relative;z-index: 1;}#sk-container-id-1 div.sk-parallel {display: flex;align-items: stretch;justify-content: center;background-color: white;position: relative;}#sk-container-id-1 div.sk-item::before, #sk-container-id-1 div.sk-parallel-item::before {content: \"\";position: absolute;border-left: 1px solid gray;box-sizing: border-box;top: 0;bottom: 0;left: 50%;z-index: -1;}#sk-container-id-1 div.sk-parallel-item {display: flex;flex-direction: column;z-index: 1;position: relative;background-color: white;}#sk-container-id-1 div.sk-parallel-item:first-child::after {align-self: flex-end;width: 50%;}#sk-container-id-1 div.sk-parallel-item:last-child::after {align-self: flex-start;width: 50%;}#sk-container-id-1 div.sk-parallel-item:only-child::after {width: 0;}#sk-container-id-1 div.sk-dashed-wrapped {border: 1px dashed gray;margin: 0 0.4em 0.5em 0.4em;box-sizing: border-box;padding-bottom: 0.4em;background-color: white;}#sk-container-id-1 div.sk-label label {font-family: monospace;font-weight: bold;display: inline-block;line-height: 1.2em;}#sk-container-id-1 div.sk-label-container {text-align: center;}#sk-container-id-1 div.sk-container {/* jupyter's `normalize.less` sets `[hidden] { display: none; }` but bootstrap.min.css set `[hidden] { display: none !important; }` so we also need the `!important` here to be able to override the default hidden behavior on the sphinx rendered scikit-learn.org. See: https://github.com/scikit-learn/scikit-learn/issues/21755 */display: inline-block !important;position: relative;}#sk-container-id-1 div.sk-text-repr-fallback {display: none;}</style><div id=\"sk-container-id-1\" class=\"sk-top-container\"><div class=\"sk-text-repr-fallback\"><pre>SVC(kernel=&#x27;linear&#x27;, random_state=42)</pre><b>In a Jupyter environment, please rerun this cell to show the HTML representation or trust the notebook. <br />On GitHub, the HTML representation is unable to render, please try loading this page with nbviewer.org.</b></div><div class=\"sk-container\" hidden><div class=\"sk-item\"><div class=\"sk-estimator sk-toggleable\"><input class=\"sk-toggleable__control sk-hidden--visually\" id=\"sk-estimator-id-1\" type=\"checkbox\" checked><label for=\"sk-estimator-id-1\" class=\"sk-toggleable__label sk-toggleable__label-arrow\">SVC</label><div class=\"sk-toggleable__content\"><pre>SVC(kernel=&#x27;linear&#x27;, random_state=42)</pre></div></div></div></div></div>"
      ],
      "text/plain": [
       "SVC(kernel='linear', random_state=42)"
      ]
     },
     "execution_count": 10,
     "metadata": {},
     "output_type": "execute_result"
    }
   ],
   "source": [
    "svm_model_1 = SVC(kernel='linear', C=1.0, random_state=42)\n",
    "svm_model_1.fit(X_train, y_train['label_1'])"
   ]
  },
  {
   "cell_type": "code",
   "execution_count": 11,
   "id": "50baaa0e",
   "metadata": {},
   "outputs": [
    {
     "name": "stdout",
     "output_type": "stream",
     "text": [
      "Accuracy: 0.992\n"
     ]
    }
   ],
   "source": [
    "# Evaluate the model on valid dataset\n",
    "from sklearn.metrics import accuracy_score\n",
    "\n",
    "y_pred_1 = svm_model_1.predict(X_valid)\n",
    "accuracy = accuracy_score(y_valid['label_1'], y_pred_1)\n",
    "print(\"Accuracy:\", accuracy)"
   ]
  },
  {
   "cell_type": "markdown",
   "id": "3c8e6e29",
   "metadata": {},
   "source": [
    "Now, some feature engineering techniques will be applied to select the most impactful features from the 256 features. "
   ]
  },
  {
   "cell_type": "code",
   "execution_count": 12,
   "id": "ab9f9a11",
   "metadata": {},
   "outputs": [],
   "source": [
    "# Feature Selection using SelectKBest and ANOVA F-value test\n",
    "# k = num of features to select\n",
    "\n",
    "selector1 = SelectKBest(score_func=f_classif, k=100)\n",
    "X_train_selected = selector1.fit_transform(X_train, y_train['label_1'])\n",
    "X_valid_selected = selector1.transform(X_valid)"
   ]
  },
  {
   "cell_type": "code",
   "execution_count": 13,
   "id": "321e38d2",
   "metadata": {},
   "outputs": [
    {
     "data": {
      "text/plain": [
       "(28520, 100)"
      ]
     },
     "execution_count": 13,
     "metadata": {},
     "output_type": "execute_result"
    }
   ],
   "source": [
    "# Print the dimensions of X_train_selected\n",
    "X_train_selected.shape"
   ]
  },
  {
   "cell_type": "code",
   "execution_count": 14,
   "id": "eb6a5572",
   "metadata": {},
   "outputs": [
    {
     "data": {
      "text/html": [
       "<style>#sk-container-id-2 {color: black;background-color: white;}#sk-container-id-2 pre{padding: 0;}#sk-container-id-2 div.sk-toggleable {background-color: white;}#sk-container-id-2 label.sk-toggleable__label {cursor: pointer;display: block;width: 100%;margin-bottom: 0;padding: 0.3em;box-sizing: border-box;text-align: center;}#sk-container-id-2 label.sk-toggleable__label-arrow:before {content: \"▸\";float: left;margin-right: 0.25em;color: #696969;}#sk-container-id-2 label.sk-toggleable__label-arrow:hover:before {color: black;}#sk-container-id-2 div.sk-estimator:hover label.sk-toggleable__label-arrow:before {color: black;}#sk-container-id-2 div.sk-toggleable__content {max-height: 0;max-width: 0;overflow: hidden;text-align: left;background-color: #f0f8ff;}#sk-container-id-2 div.sk-toggleable__content pre {margin: 0.2em;color: black;border-radius: 0.25em;background-color: #f0f8ff;}#sk-container-id-2 input.sk-toggleable__control:checked~div.sk-toggleable__content {max-height: 200px;max-width: 100%;overflow: auto;}#sk-container-id-2 input.sk-toggleable__control:checked~label.sk-toggleable__label-arrow:before {content: \"▾\";}#sk-container-id-2 div.sk-estimator input.sk-toggleable__control:checked~label.sk-toggleable__label {background-color: #d4ebff;}#sk-container-id-2 div.sk-label input.sk-toggleable__control:checked~label.sk-toggleable__label {background-color: #d4ebff;}#sk-container-id-2 input.sk-hidden--visually {border: 0;clip: rect(1px 1px 1px 1px);clip: rect(1px, 1px, 1px, 1px);height: 1px;margin: -1px;overflow: hidden;padding: 0;position: absolute;width: 1px;}#sk-container-id-2 div.sk-estimator {font-family: monospace;background-color: #f0f8ff;border: 1px dotted black;border-radius: 0.25em;box-sizing: border-box;margin-bottom: 0.5em;}#sk-container-id-2 div.sk-estimator:hover {background-color: #d4ebff;}#sk-container-id-2 div.sk-parallel-item::after {content: \"\";width: 100%;border-bottom: 1px solid gray;flex-grow: 1;}#sk-container-id-2 div.sk-label:hover label.sk-toggleable__label {background-color: #d4ebff;}#sk-container-id-2 div.sk-serial::before {content: \"\";position: absolute;border-left: 1px solid gray;box-sizing: border-box;top: 0;bottom: 0;left: 50%;z-index: 0;}#sk-container-id-2 div.sk-serial {display: flex;flex-direction: column;align-items: center;background-color: white;padding-right: 0.2em;padding-left: 0.2em;position: relative;}#sk-container-id-2 div.sk-item {position: relative;z-index: 1;}#sk-container-id-2 div.sk-parallel {display: flex;align-items: stretch;justify-content: center;background-color: white;position: relative;}#sk-container-id-2 div.sk-item::before, #sk-container-id-2 div.sk-parallel-item::before {content: \"\";position: absolute;border-left: 1px solid gray;box-sizing: border-box;top: 0;bottom: 0;left: 50%;z-index: -1;}#sk-container-id-2 div.sk-parallel-item {display: flex;flex-direction: column;z-index: 1;position: relative;background-color: white;}#sk-container-id-2 div.sk-parallel-item:first-child::after {align-self: flex-end;width: 50%;}#sk-container-id-2 div.sk-parallel-item:last-child::after {align-self: flex-start;width: 50%;}#sk-container-id-2 div.sk-parallel-item:only-child::after {width: 0;}#sk-container-id-2 div.sk-dashed-wrapped {border: 1px dashed gray;margin: 0 0.4em 0.5em 0.4em;box-sizing: border-box;padding-bottom: 0.4em;background-color: white;}#sk-container-id-2 div.sk-label label {font-family: monospace;font-weight: bold;display: inline-block;line-height: 1.2em;}#sk-container-id-2 div.sk-label-container {text-align: center;}#sk-container-id-2 div.sk-container {/* jupyter's `normalize.less` sets `[hidden] { display: none; }` but bootstrap.min.css set `[hidden] { display: none !important; }` so we also need the `!important` here to be able to override the default hidden behavior on the sphinx rendered scikit-learn.org. See: https://github.com/scikit-learn/scikit-learn/issues/21755 */display: inline-block !important;position: relative;}#sk-container-id-2 div.sk-text-repr-fallback {display: none;}</style><div id=\"sk-container-id-2\" class=\"sk-top-container\"><div class=\"sk-text-repr-fallback\"><pre>SVC(kernel=&#x27;linear&#x27;, random_state=42)</pre><b>In a Jupyter environment, please rerun this cell to show the HTML representation or trust the notebook. <br />On GitHub, the HTML representation is unable to render, please try loading this page with nbviewer.org.</b></div><div class=\"sk-container\" hidden><div class=\"sk-item\"><div class=\"sk-estimator sk-toggleable\"><input class=\"sk-toggleable__control sk-hidden--visually\" id=\"sk-estimator-id-2\" type=\"checkbox\" checked><label for=\"sk-estimator-id-2\" class=\"sk-toggleable__label sk-toggleable__label-arrow\">SVC</label><div class=\"sk-toggleable__content\"><pre>SVC(kernel=&#x27;linear&#x27;, random_state=42)</pre></div></div></div></div></div>"
      ],
      "text/plain": [
       "SVC(kernel='linear', random_state=42)"
      ]
     },
     "execution_count": 14,
     "metadata": {},
     "output_type": "execute_result"
    }
   ],
   "source": [
    "# Retrain a new SVM Classifier for the selected feature set\n",
    "\n",
    "svm_model_1_sel = SVC(kernel='linear', C=1.0, random_state=42)\n",
    "svm_model_1_sel.fit(X_train_selected, y_train['label_1'])"
   ]
  },
  {
   "cell_type": "code",
   "execution_count": 15,
   "id": "915c12bb",
   "metadata": {},
   "outputs": [
    {
     "name": "stdout",
     "output_type": "stream",
     "text": [
      "Accuracy: 0.9773333333333334\n"
     ]
    }
   ],
   "source": [
    "# Evaluate the new model on valid dataset\n",
    "y_pred_1_sel = svm_model_1_sel.predict(X_valid_selected)\n",
    "accuracy = accuracy_score(y_valid['label_1'], y_pred_1_sel)\n",
    "print(\"Accuracy:\", accuracy)"
   ]
  },
  {
   "cell_type": "markdown",
   "id": "64874871",
   "metadata": {},
   "source": [
    "Although the accuracy has dropped a little bit, it was possible to achieve a high accuracy rate with only 100 features. \n",
    "\n",
    "For label_1, <br>\n",
    "Initial Model (trained with 256 features) : svm_model_1 <br>\n",
    "Model after feature selection : svm_model_1_sel"
   ]
  },
  {
   "cell_type": "markdown",
   "id": "8be697f8",
   "metadata": {},
   "source": [
    "## Modelling Speaker Age\n",
    "\n",
    "Speaker age has been labeled as 'label_2'. The missing values were filled earlier with the mean age. "
   ]
  },
  {
   "cell_type": "code",
   "execution_count": 16,
   "id": "8f4ad6d1",
   "metadata": {},
   "outputs": [
    {
     "data": {
      "text/html": [
       "<style>#sk-container-id-3 {color: black;background-color: white;}#sk-container-id-3 pre{padding: 0;}#sk-container-id-3 div.sk-toggleable {background-color: white;}#sk-container-id-3 label.sk-toggleable__label {cursor: pointer;display: block;width: 100%;margin-bottom: 0;padding: 0.3em;box-sizing: border-box;text-align: center;}#sk-container-id-3 label.sk-toggleable__label-arrow:before {content: \"▸\";float: left;margin-right: 0.25em;color: #696969;}#sk-container-id-3 label.sk-toggleable__label-arrow:hover:before {color: black;}#sk-container-id-3 div.sk-estimator:hover label.sk-toggleable__label-arrow:before {color: black;}#sk-container-id-3 div.sk-toggleable__content {max-height: 0;max-width: 0;overflow: hidden;text-align: left;background-color: #f0f8ff;}#sk-container-id-3 div.sk-toggleable__content pre {margin: 0.2em;color: black;border-radius: 0.25em;background-color: #f0f8ff;}#sk-container-id-3 input.sk-toggleable__control:checked~div.sk-toggleable__content {max-height: 200px;max-width: 100%;overflow: auto;}#sk-container-id-3 input.sk-toggleable__control:checked~label.sk-toggleable__label-arrow:before {content: \"▾\";}#sk-container-id-3 div.sk-estimator input.sk-toggleable__control:checked~label.sk-toggleable__label {background-color: #d4ebff;}#sk-container-id-3 div.sk-label input.sk-toggleable__control:checked~label.sk-toggleable__label {background-color: #d4ebff;}#sk-container-id-3 input.sk-hidden--visually {border: 0;clip: rect(1px 1px 1px 1px);clip: rect(1px, 1px, 1px, 1px);height: 1px;margin: -1px;overflow: hidden;padding: 0;position: absolute;width: 1px;}#sk-container-id-3 div.sk-estimator {font-family: monospace;background-color: #f0f8ff;border: 1px dotted black;border-radius: 0.25em;box-sizing: border-box;margin-bottom: 0.5em;}#sk-container-id-3 div.sk-estimator:hover {background-color: #d4ebff;}#sk-container-id-3 div.sk-parallel-item::after {content: \"\";width: 100%;border-bottom: 1px solid gray;flex-grow: 1;}#sk-container-id-3 div.sk-label:hover label.sk-toggleable__label {background-color: #d4ebff;}#sk-container-id-3 div.sk-serial::before {content: \"\";position: absolute;border-left: 1px solid gray;box-sizing: border-box;top: 0;bottom: 0;left: 50%;z-index: 0;}#sk-container-id-3 div.sk-serial {display: flex;flex-direction: column;align-items: center;background-color: white;padding-right: 0.2em;padding-left: 0.2em;position: relative;}#sk-container-id-3 div.sk-item {position: relative;z-index: 1;}#sk-container-id-3 div.sk-parallel {display: flex;align-items: stretch;justify-content: center;background-color: white;position: relative;}#sk-container-id-3 div.sk-item::before, #sk-container-id-3 div.sk-parallel-item::before {content: \"\";position: absolute;border-left: 1px solid gray;box-sizing: border-box;top: 0;bottom: 0;left: 50%;z-index: -1;}#sk-container-id-3 div.sk-parallel-item {display: flex;flex-direction: column;z-index: 1;position: relative;background-color: white;}#sk-container-id-3 div.sk-parallel-item:first-child::after {align-self: flex-end;width: 50%;}#sk-container-id-3 div.sk-parallel-item:last-child::after {align-self: flex-start;width: 50%;}#sk-container-id-3 div.sk-parallel-item:only-child::after {width: 0;}#sk-container-id-3 div.sk-dashed-wrapped {border: 1px dashed gray;margin: 0 0.4em 0.5em 0.4em;box-sizing: border-box;padding-bottom: 0.4em;background-color: white;}#sk-container-id-3 div.sk-label label {font-family: monospace;font-weight: bold;display: inline-block;line-height: 1.2em;}#sk-container-id-3 div.sk-label-container {text-align: center;}#sk-container-id-3 div.sk-container {/* jupyter's `normalize.less` sets `[hidden] { display: none; }` but bootstrap.min.css set `[hidden] { display: none !important; }` so we also need the `!important` here to be able to override the default hidden behavior on the sphinx rendered scikit-learn.org. See: https://github.com/scikit-learn/scikit-learn/issues/21755 */display: inline-block !important;position: relative;}#sk-container-id-3 div.sk-text-repr-fallback {display: none;}</style><div id=\"sk-container-id-3\" class=\"sk-top-container\"><div class=\"sk-text-repr-fallback\"><pre>SVC(kernel=&#x27;linear&#x27;, random_state=42)</pre><b>In a Jupyter environment, please rerun this cell to show the HTML representation or trust the notebook. <br />On GitHub, the HTML representation is unable to render, please try loading this page with nbviewer.org.</b></div><div class=\"sk-container\" hidden><div class=\"sk-item\"><div class=\"sk-estimator sk-toggleable\"><input class=\"sk-toggleable__control sk-hidden--visually\" id=\"sk-estimator-id-3\" type=\"checkbox\" checked><label for=\"sk-estimator-id-3\" class=\"sk-toggleable__label sk-toggleable__label-arrow\">SVC</label><div class=\"sk-toggleable__content\"><pre>SVC(kernel=&#x27;linear&#x27;, random_state=42)</pre></div></div></div></div></div>"
      ],
      "text/plain": [
       "SVC(kernel='linear', random_state=42)"
      ]
     },
     "execution_count": 16,
     "metadata": {},
     "output_type": "execute_result"
    }
   ],
   "source": [
    "svm_model_2 = SVC(kernel='linear', C=1.0, random_state=42)\n",
    "svm_model_2.fit(X_train, y_train['label_2'])"
   ]
  },
  {
   "cell_type": "code",
   "execution_count": 17,
   "id": "ebf8fa66",
   "metadata": {},
   "outputs": [
    {
     "name": "stdout",
     "output_type": "stream",
     "text": [
      "Accuracy: 0.9\n"
     ]
    }
   ],
   "source": [
    "y_pred_2 = svm_model_2.predict(X_valid)\n",
    "accuracy = accuracy_score(y_valid['label_2'], y_pred_2)\n",
    "print(\"Accuracy:\", accuracy)"
   ]
  },
  {
   "cell_type": "code",
   "execution_count": 18,
   "id": "964268b4",
   "metadata": {},
   "outputs": [],
   "source": [
    "# Feature Selection using SelectKBest and ANOVA F-value test\n",
    "# k = num of features to select\n",
    "\n",
    "selector2 = SelectKBest(score_func=f_classif, k=150)\n",
    "X_train_selected = selector2.fit_transform(X_train, y_train['label_2'])\n",
    "X_valid_selected = selector2.transform(X_valid)"
   ]
  },
  {
   "cell_type": "code",
   "execution_count": 19,
   "id": "714f7254",
   "metadata": {},
   "outputs": [
    {
     "data": {
      "text/html": [
       "<style>#sk-container-id-4 {color: black;background-color: white;}#sk-container-id-4 pre{padding: 0;}#sk-container-id-4 div.sk-toggleable {background-color: white;}#sk-container-id-4 label.sk-toggleable__label {cursor: pointer;display: block;width: 100%;margin-bottom: 0;padding: 0.3em;box-sizing: border-box;text-align: center;}#sk-container-id-4 label.sk-toggleable__label-arrow:before {content: \"▸\";float: left;margin-right: 0.25em;color: #696969;}#sk-container-id-4 label.sk-toggleable__label-arrow:hover:before {color: black;}#sk-container-id-4 div.sk-estimator:hover label.sk-toggleable__label-arrow:before {color: black;}#sk-container-id-4 div.sk-toggleable__content {max-height: 0;max-width: 0;overflow: hidden;text-align: left;background-color: #f0f8ff;}#sk-container-id-4 div.sk-toggleable__content pre {margin: 0.2em;color: black;border-radius: 0.25em;background-color: #f0f8ff;}#sk-container-id-4 input.sk-toggleable__control:checked~div.sk-toggleable__content {max-height: 200px;max-width: 100%;overflow: auto;}#sk-container-id-4 input.sk-toggleable__control:checked~label.sk-toggleable__label-arrow:before {content: \"▾\";}#sk-container-id-4 div.sk-estimator input.sk-toggleable__control:checked~label.sk-toggleable__label {background-color: #d4ebff;}#sk-container-id-4 div.sk-label input.sk-toggleable__control:checked~label.sk-toggleable__label {background-color: #d4ebff;}#sk-container-id-4 input.sk-hidden--visually {border: 0;clip: rect(1px 1px 1px 1px);clip: rect(1px, 1px, 1px, 1px);height: 1px;margin: -1px;overflow: hidden;padding: 0;position: absolute;width: 1px;}#sk-container-id-4 div.sk-estimator {font-family: monospace;background-color: #f0f8ff;border: 1px dotted black;border-radius: 0.25em;box-sizing: border-box;margin-bottom: 0.5em;}#sk-container-id-4 div.sk-estimator:hover {background-color: #d4ebff;}#sk-container-id-4 div.sk-parallel-item::after {content: \"\";width: 100%;border-bottom: 1px solid gray;flex-grow: 1;}#sk-container-id-4 div.sk-label:hover label.sk-toggleable__label {background-color: #d4ebff;}#sk-container-id-4 div.sk-serial::before {content: \"\";position: absolute;border-left: 1px solid gray;box-sizing: border-box;top: 0;bottom: 0;left: 50%;z-index: 0;}#sk-container-id-4 div.sk-serial {display: flex;flex-direction: column;align-items: center;background-color: white;padding-right: 0.2em;padding-left: 0.2em;position: relative;}#sk-container-id-4 div.sk-item {position: relative;z-index: 1;}#sk-container-id-4 div.sk-parallel {display: flex;align-items: stretch;justify-content: center;background-color: white;position: relative;}#sk-container-id-4 div.sk-item::before, #sk-container-id-4 div.sk-parallel-item::before {content: \"\";position: absolute;border-left: 1px solid gray;box-sizing: border-box;top: 0;bottom: 0;left: 50%;z-index: -1;}#sk-container-id-4 div.sk-parallel-item {display: flex;flex-direction: column;z-index: 1;position: relative;background-color: white;}#sk-container-id-4 div.sk-parallel-item:first-child::after {align-self: flex-end;width: 50%;}#sk-container-id-4 div.sk-parallel-item:last-child::after {align-self: flex-start;width: 50%;}#sk-container-id-4 div.sk-parallel-item:only-child::after {width: 0;}#sk-container-id-4 div.sk-dashed-wrapped {border: 1px dashed gray;margin: 0 0.4em 0.5em 0.4em;box-sizing: border-box;padding-bottom: 0.4em;background-color: white;}#sk-container-id-4 div.sk-label label {font-family: monospace;font-weight: bold;display: inline-block;line-height: 1.2em;}#sk-container-id-4 div.sk-label-container {text-align: center;}#sk-container-id-4 div.sk-container {/* jupyter's `normalize.less` sets `[hidden] { display: none; }` but bootstrap.min.css set `[hidden] { display: none !important; }` so we also need the `!important` here to be able to override the default hidden behavior on the sphinx rendered scikit-learn.org. See: https://github.com/scikit-learn/scikit-learn/issues/21755 */display: inline-block !important;position: relative;}#sk-container-id-4 div.sk-text-repr-fallback {display: none;}</style><div id=\"sk-container-id-4\" class=\"sk-top-container\"><div class=\"sk-text-repr-fallback\"><pre>SVC(kernel=&#x27;linear&#x27;, random_state=42)</pre><b>In a Jupyter environment, please rerun this cell to show the HTML representation or trust the notebook. <br />On GitHub, the HTML representation is unable to render, please try loading this page with nbviewer.org.</b></div><div class=\"sk-container\" hidden><div class=\"sk-item\"><div class=\"sk-estimator sk-toggleable\"><input class=\"sk-toggleable__control sk-hidden--visually\" id=\"sk-estimator-id-4\" type=\"checkbox\" checked><label for=\"sk-estimator-id-4\" class=\"sk-toggleable__label sk-toggleable__label-arrow\">SVC</label><div class=\"sk-toggleable__content\"><pre>SVC(kernel=&#x27;linear&#x27;, random_state=42)</pre></div></div></div></div></div>"
      ],
      "text/plain": [
       "SVC(kernel='linear', random_state=42)"
      ]
     },
     "execution_count": 19,
     "metadata": {},
     "output_type": "execute_result"
    }
   ],
   "source": [
    "# Retrain a new SVM Classifier for the selected feature set\n",
    "\n",
    "svm_model_2_sel = SVC(kernel='linear', C=1.0, random_state=42)\n",
    "svm_model_2_sel.fit(X_train_selected, y_train['label_2'])"
   ]
  },
  {
   "cell_type": "code",
   "execution_count": 20,
   "id": "2a356d9a",
   "metadata": {},
   "outputs": [
    {
     "name": "stdout",
     "output_type": "stream",
     "text": [
      "Accuracy: 0.8653333333333333\n"
     ]
    }
   ],
   "source": [
    "# Evaluate the new model on valid dataset\n",
    "y_pred_2_sel = svm_model_2_sel.predict(X_valid_selected)\n",
    "accuracy = accuracy_score(y_valid['label_2'], y_pred_2_sel)\n",
    "print(\"Accuracy:\", accuracy)"
   ]
  },
  {
   "cell_type": "markdown",
   "id": "0369a2e2",
   "metadata": {},
   "source": [
    "For label_2, <br>\n",
    "Initial model : svm_model_2 <br>\n",
    "Model after feature selection : svm_model_2_sel"
   ]
  },
  {
   "cell_type": "markdown",
   "id": "087e2754",
   "metadata": {},
   "source": [
    "## Modelling Speaker Gender\n",
    "\n",
    "Speaker gender is labeled as 'label_3'. This is a binary classification."
   ]
  },
  {
   "cell_type": "code",
   "execution_count": 21,
   "id": "624549fd",
   "metadata": {},
   "outputs": [
    {
     "name": "stdout",
     "output_type": "stream",
     "text": [
      "Accuracy: 0.9986666666666667\n"
     ]
    }
   ],
   "source": [
    "# Train an SVM model for all 256 features\n",
    "svm_model_3 = SVC(kernel='linear', C=1.0, random_state=42)\n",
    "svm_model_3.fit(X_train, y_train['label_3'])\n",
    "\n",
    "# Evaluate with the valid dataset\n",
    "y_pred_3 = svm_model_3.predict(X_valid)\n",
    "accuracy = accuracy_score(y_valid['label_3'], y_pred_3)\n",
    "print(\"Accuracy:\", accuracy)"
   ]
  },
  {
   "cell_type": "code",
   "execution_count": 22,
   "id": "79f89920",
   "metadata": {},
   "outputs": [],
   "source": [
    "# Feature Selection using SelectKBest and ANOVA F-value test\n",
    "# k = num of features to select\n",
    "selector3 = SelectKBest(score_func=f_classif, k=50)\n",
    "X_train_selected = selector3.fit_transform(X_train, y_train['label_3'])\n",
    "X_valid_selected = selector3.transform(X_valid)"
   ]
  },
  {
   "cell_type": "code",
   "execution_count": 23,
   "id": "258bda38",
   "metadata": {},
   "outputs": [
    {
     "name": "stdout",
     "output_type": "stream",
     "text": [
      "Accuracy: 0.9946666666666667\n"
     ]
    }
   ],
   "source": [
    "# Retrain a new SVM Classifier for the selected feature set\n",
    "svm_model_3_sel = SVC(kernel='linear', C=1.0, random_state=42)\n",
    "svm_model_3_sel.fit(X_train_selected, y_train['label_3'])\n",
    "\n",
    "# Evaluate the new model on valid dataset\n",
    "y_pred_3_sel = svm_model_3_sel.predict(X_valid_selected)\n",
    "accuracy = accuracy_score(y_valid['label_3'], y_pred_3_sel)\n",
    "print(\"Accuracy:\", accuracy)"
   ]
  },
  {
   "cell_type": "markdown",
   "id": "46f8d6db",
   "metadata": {},
   "source": [
    "A very high accuracy has been achieved with 50 selected features.\n",
    "\n",
    "For label_3, <br>\n",
    "Initial model : svm_model_2 <br>\n",
    "Model after feature selection : svm_model_2_sel"
   ]
  },
  {
   "cell_type": "markdown",
   "id": "26807ffb",
   "metadata": {},
   "source": [
    "## Modelling Speaker Accent\n",
    "\n",
    "Speaker accent is labelled as 'label_4'. The data in this column are not equally distributed. Thus, an oversampling technique has to be applied first before training a model. I have used RandomOverSampler() for this."
   ]
  },
  {
   "cell_type": "code",
   "execution_count": 24,
   "id": "789f76cc",
   "metadata": {},
   "outputs": [],
   "source": [
    "# Oversample the minority class using RandomOverSampler\n",
    "oversampler = RandomOverSampler(random_state=42)\n",
    "X_train_resampled, y_train_resampled = oversampler.fit_resample(X_train, y_train['label_4'])"
   ]
  },
  {
   "cell_type": "markdown",
   "id": "ad1490e5",
   "metadata": {},
   "source": [
    "For label_4, I developed a KNN model."
   ]
  },
  {
   "cell_type": "code",
   "execution_count": 25,
   "id": "77e17927",
   "metadata": {},
   "outputs": [
    {
     "name": "stdout",
     "output_type": "stream",
     "text": [
      "12\n"
     ]
    }
   ],
   "source": [
    "# From the square root rule, get the k value\n",
    "k = int(X_train.shape[0] ** (1/4))\n",
    "print(k)"
   ]
  },
  {
   "cell_type": "code",
   "execution_count": 26,
   "id": "fa600eec",
   "metadata": {},
   "outputs": [
    {
     "name": "stdout",
     "output_type": "stream",
     "text": [
      "Accuracy: 0.9981203007518797\n"
     ]
    }
   ],
   "source": [
    "# build the KNN classifier\n",
    "knn_model = KNeighborsClassifier(n_neighbors=k)\n",
    "knn_model.fit(X_train_resampled, y_train_resampled)\n",
    "\n",
    "# Oversample the valid dataset\n",
    "X_valid_resampled, y_valid_resampled = oversampler.fit_resample(X_valid, y_valid['label_4'])\n",
    "\n",
    "y_pred_4 = knn_model.predict(X_valid_resampled)\n",
    "accuracy = accuracy_score(y_valid_resampled, y_pred_4)\n",
    "print(\"Accuracy:\", accuracy)"
   ]
  },
  {
   "cell_type": "code",
   "execution_count": 27,
   "id": "f7798de2",
   "metadata": {},
   "outputs": [],
   "source": [
    "# Feature Selection using SelectKBest and ANOVA F-value test\n",
    "\n",
    "selector4 = SelectKBest(score_func=f_classif, k=100)\n",
    "X_train_selected = selector4.fit_transform(X_train_resampled, y_train_resampled)\n",
    "X_valid_selected = selector4.transform(X_valid_resampled)"
   ]
  },
  {
   "cell_type": "code",
   "execution_count": 28,
   "id": "323febd2",
   "metadata": {},
   "outputs": [
    {
     "name": "stdout",
     "output_type": "stream",
     "text": [
      "Accuracy: 0.9763694951664876\n"
     ]
    }
   ],
   "source": [
    "# Retrain the model\n",
    "\n",
    "knn_model_sel = KNeighborsClassifier(n_neighbors=k)\n",
    "knn_model_sel.fit(X_train_selected, y_train_resampled)\n",
    "\n",
    "y_pred_4_sel = knn_model_sel.predict(X_valid_selected)\n",
    "accuracy = accuracy_score(y_valid_resampled, y_pred_4_sel)\n",
    "print(\"Accuracy:\", accuracy)"
   ]
  },
  {
   "cell_type": "markdown",
   "id": "f41a2cd5",
   "metadata": {},
   "source": [
    "With only 100 features 97.6% accuracy has been achieved.\n",
    "\n",
    "For label_4, <br>\n",
    "Initial model : knn_model, <br>\n",
    "Model after feature selection : knn_model_sel"
   ]
  },
  {
   "cell_type": "markdown",
   "id": "5a4b9030",
   "metadata": {},
   "source": [
    "## Testing the models\n",
    "\n",
    "The accuracy of the above 4 models will be tested with a test dataset : \"test.csv\""
   ]
  },
  {
   "cell_type": "code",
   "execution_count": 33,
   "id": "53a8707c",
   "metadata": {},
   "outputs": [],
   "source": [
    "# Read test dataset file\n",
    "test = pd.read_csv(\"test.csv\")"
   ]
  },
  {
   "cell_type": "code",
   "execution_count": 34,
   "id": "4bc41581",
   "metadata": {},
   "outputs": [
    {
     "name": "stdout",
     "output_type": "stream",
     "text": [
      "(750, 256)\n"
     ]
    }
   ],
   "source": [
    "X_test = test.iloc[:, :256]\n",
    "print(X_test.shape)"
   ]
  },
  {
   "cell_type": "code",
   "execution_count": 35,
   "id": "565f2195",
   "metadata": {},
   "outputs": [],
   "source": [
    "# Preprocess to input to the models\n",
    "test_1 = selector1.transform(X_test)\n",
    "test_2 = selector2.transform(X_test)\n",
    "test_3 = selector3.transform(X_test)\n",
    "test_4 = selector4.transform(X_test)"
   ]
  },
  {
   "cell_type": "code",
   "execution_count": 36,
   "id": "c4d04ed8",
   "metadata": {},
   "outputs": [
    {
     "name": "stdout",
     "output_type": "stream",
     "text": [
      "(750, 100)\n",
      "(750, 150)\n",
      "(750, 50)\n",
      "(750, 100)\n"
     ]
    }
   ],
   "source": [
    "print(test_1.shape)\n",
    "print(test_2.shape)\n",
    "print(test_3.shape)\n",
    "print(test_4.shape)"
   ]
  },
  {
   "cell_type": "code",
   "execution_count": 38,
   "id": "7382a914",
   "metadata": {},
   "outputs": [],
   "source": [
    "# Predict with the models before feature engineering \n",
    "y_test_1_bf = svm_model_1.predict(X_test)\n",
    "y_test_2_bf = svm_model_2.predict(X_test)\n",
    "y_test_3_bf = svm_model_3.predict(X_test)\n",
    "y_test_4_bf = knn_model.predict(X_test)"
   ]
  },
  {
   "cell_type": "code",
   "execution_count": 39,
   "id": "b9b2ccc4",
   "metadata": {},
   "outputs": [],
   "source": [
    "# Predict with the models after feature engineering\n",
    "y_test_1 = svm_model_1_sel.predict(test_1)\n",
    "y_test_2 = svm_model_2_sel.predict(test_2)\n",
    "y_test_3 = svm_model_3_sel.predict(test_3)\n",
    "y_test_4 = knn_model_sel.predict(test_4)"
   ]
  },
  {
   "cell_type": "code",
   "execution_count": 40,
   "id": "6f7efe24",
   "metadata": {},
   "outputs": [],
   "source": [
    "# Write the transformed datasets into csv files\n",
    "\n",
    "import csv\n",
    "\n",
    "header = [\"Predicted labels before feature engineering\", \"Predicted labels after feature engineering\", \"No of new features\"]\n",
    "for i in range(1, 257):\n",
    "    header.append(\"new_feature_\" + str(i))\n",
    "\n",
    "with open(\"190547P_label_1.csv\", \"w\", newline='') as f1:\n",
    "    writer = csv.writer(f1)\n",
    "    writer.writerow(header)\n",
    "    for i in range(750):\n",
    "        datarow = [y_test_1_bf[i], y_test_1[i], test_1.shape[1]] + test_1[i].tolist()\n",
    "        writer.writerow(datarow)\n",
    "\n",
    "with open(\"190547P_label_2.csv\", \"w\", newline='') as f2:\n",
    "    writer = csv.writer(f2)\n",
    "    writer.writerow(header)\n",
    "    for i in range(750):\n",
    "        datarow = [y_test_2_bf[i], y_test_2[i], test_2.shape[1]] + test_2[i].tolist()\n",
    "        writer.writerow(datarow)\n",
    "        \n",
    "with open(\"190547P_label_3.csv\", \"w\", newline='') as f3:\n",
    "    writer = csv.writer(f3)\n",
    "    writer.writerow(header)\n",
    "    for i in range(750):\n",
    "        datarow = [y_test_3_bf[i], y_test_3[i], test_3.shape[1]] + test_3[i].tolist()\n",
    "        writer.writerow(datarow)\n",
    "        \n",
    "with open(\"190547P_label_4.csv\", \"w\", newline='') as f4:\n",
    "    writer = csv.writer(f4)\n",
    "    writer.writerow(header)\n",
    "    for i in range(750):\n",
    "        datarow = [y_test_4_bf[i], y_test_4[i], test_4.shape[1]] + test_4[i].tolist()\n",
    "        writer.writerow(datarow)"
   ]
  }
 ],
 "metadata": {
  "kernelspec": {
   "display_name": "Python 3 (ipykernel)",
   "language": "python",
   "name": "python3"
  },
  "language_info": {
   "codemirror_mode": {
    "name": "ipython",
    "version": 3
   },
   "file_extension": ".py",
   "mimetype": "text/x-python",
   "name": "python",
   "nbconvert_exporter": "python",
   "pygments_lexer": "ipython3",
   "version": "3.10.7"
  }
 },
 "nbformat": 4,
 "nbformat_minor": 5
}
